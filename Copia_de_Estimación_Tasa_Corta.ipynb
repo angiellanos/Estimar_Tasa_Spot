{
  "nbformat": 4,
  "nbformat_minor": 0,
  "metadata": {
    "colab": {
      "provenance": [],
      "authorship_tag": "ABX9TyP3to6Zq8d4jjaW2okJj9vL",
      "include_colab_link": true
    },
    "kernelspec": {
      "name": "python3",
      "display_name": "Python 3"
    },
    "language_info": {
      "name": "python"
    }
  },
  "cells": [
    {
      "cell_type": "markdown",
      "metadata": {
        "id": "view-in-github",
        "colab_type": "text"
      },
      "source": [
        "<a href=\"https://colab.research.google.com/github/angiellanos/Estimar_Tasa_Spot/blob/main/Copia_de_Estimaci%C3%B3n_Tasa_Corta.ipynb\" target=\"_parent\"><img src=\"https://colab.research.google.com/assets/colab-badge.svg\" alt=\"Open In Colab\"/></a>"
      ]
    },
    {
      "cell_type": "code",
      "execution_count": null,
      "metadata": {
        "id": "xczRWHvSTA8x"
      },
      "outputs": [],
      "source": []
    }
  ]
}